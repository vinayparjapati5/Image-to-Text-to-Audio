{
  "nbformat": 4,
  "nbformat_minor": 0,
  "metadata": {
    "colab": {
      "provenance": [],
      "authorship_tag": "ABX9TyMTb8l6Q1R5gjdCykmX+jJt",
      "include_colab_link": true
    },
    "kernelspec": {
      "name": "python3",
      "display_name": "Python 3"
    },
    "language_info": {
      "name": "python"
    }
  },
  "cells": [
    {
      "cell_type": "markdown",
      "metadata": {
        "id": "view-in-github",
        "colab_type": "text"
      },
      "source": [
        "<a href=\"https://colab.research.google.com/github/vinayparjapati5/Image-to-Text-to-Audio/blob/main/Image_to_text_to__audio.ipynb\" target=\"_parent\"><img src=\"https://colab.research.google.com/assets/colab-badge.svg\" alt=\"Open In Colab\"/></a>"
      ]
    },
    {
      "cell_type": "markdown",
      "source": [
        "---\n",
        "## **Mini Project: Image to Text to Audio**\n",
        "___"
      ],
      "metadata": {
        "id": "9wQoJE7kIgLC"
      }
    },
    {
      "cell_type": "markdown",
      "source": [
        "---\n",
        "### Installing libraries\n",
        "---"
      ],
      "metadata": {
        "id": "X0KEwFRGI4Gz"
      }
    },
    {
      "cell_type": "code",
      "source": [
        "!sudo apt install tesseract-ocr &> /dev/null\n",
        "print(\"Tesseract-ocr installed successfully!!\")\n",
        "!pip install pytesseract &> /dev/null\n",
        "print(\"Pytesseract installed successfully!!\")\n",
        "!pip install Pillow==9.0.0 &> /dev/null\n",
        "print(\"Pillow==9.0.0 installed successfully!!\")\n",
        "!pip install gTTS &> /dev/null\n",
        "print(\"gTTS installed successfully!!\")"
      ],
      "metadata": {
        "colab": {
          "base_uri": "https://localhost:8080/"
        },
        "id": "HGqoAFhOI10T",
        "outputId": "2ce4736c-aa5c-4722-cef1-e3eeea2536e4"
      },
      "execution_count": 1,
      "outputs": [
        {
          "output_type": "stream",
          "name": "stdout",
          "text": [
            "Tesseract-ocr installed successfully!!\n",
            "Pytesseract installed successfully!!\n",
            "Pillow==9.0.0 installed successfully!!\n",
            "gTTS installed successfully!!\n"
          ]
        }
      ]
    },
    {
      "cell_type": "markdown",
      "source": [
        "---\n",
        "### Importing libraries\n",
        "---"
      ],
      "metadata": {
        "id": "pM1o3p_UKXgU"
      }
    },
    {
      "cell_type": "code",
      "source": [
        "import pytesseract\n",
        "from PIL import Image\n",
        "import pygame\n",
        "import gtts"
      ],
      "metadata": {
        "id": "Te91n2v0KYrj"
      },
      "execution_count": 3,
      "outputs": []
    },
    {
      "cell_type": "markdown",
      "source": [
        "---\n",
        "### Uploading the image which we have to converted into text and audio\n",
        "---"
      ],
      "metadata": {
        "id": "PCVErH4pKwRW"
      }
    },
    {
      "cell_type": "code",
      "source": [
        "img = Image.open('/content/Screenshot 2023-06-14 192740.png')\n",
        "print(img)"
      ],
      "metadata": {
        "colab": {
          "base_uri": "https://localhost:8080/"
        },
        "id": "5KEUL1DEKz2B",
        "outputId": "a94548d1-2ea5-4589-ba84-7b135c765b71"
      },
      "execution_count": 6,
      "outputs": [
        {
          "output_type": "stream",
          "name": "stdout",
          "text": [
            "<PIL.PngImagePlugin.PngImageFile image mode=RGBA size=610x364 at 0x7F1A223E97B0>\n"
          ]
        }
      ]
    },
    {
      "cell_type": "markdown",
      "source": [
        "---\n",
        "### Resulted Text & Audio\n",
        "---"
      ],
      "metadata": {
        "id": "L21lIVYSLejM"
      }
    },
    {
      "cell_type": "code",
      "source": [
        "result = pytesseract.image_to_string(Image.open('/content/Screenshot 2023-06-14 192740.png'))\n",
        "print(result)\n",
        "tts = gtts.gTTS(result)\n",
        "tts.save(\"text.mp3\")"
      ],
      "metadata": {
        "colab": {
          "base_uri": "https://localhost:8080/"
        },
        "id": "B6m0Vl2ULgYd",
        "outputId": "d080554c-ee81-493d-e109-7d3fb37c6ed8"
      },
      "execution_count": 7,
      "outputs": [
        {
          "output_type": "stream",
          "name": "stdout",
          "text": [
            "It is the responsibility of the Control Unit to tell the\n",
            "computer’s memory, arithmetic/logic unit and input and\n",
            "output devices how to respond to the instructions that\n",
            "have been sent to the processor.\n",
            "\n",
            "It fetches internal instructions of the programs from the\n",
            "main memory to the processor instruction register, and\n",
            "based on this register contents, the control unit\n",
            "generates a control signal that supervises the execution\n",
            "of these instructions.\n",
            "\n",
            "- Acontrol unit works by receiving input information to\n",
            "which it converts into control signals, which are then\n",
            "sent to the central processor.\n",
            "\n",
            "' The computer’s processor then tells the attached\n",
            "hardware what operations to perform.\n",
            "\f\n"
          ]
        }
      ]
    }
  ]
}